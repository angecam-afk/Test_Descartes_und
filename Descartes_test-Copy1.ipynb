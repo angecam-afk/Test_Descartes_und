{
 "cells": [
  {
   "cell_type": "code",
   "execution_count": 1,
   "metadata": {},
   "outputs": [],
   "source": [
    "import pandas as pd \n",
    "import os\n",
    "import numpy as np \n",
    "from sklearn.svm import SVC\n",
    "from sklearn.pipeline import make_pipeline\n",
    "from sklearn.preprocessing import StandardScaler\n",
    "from sklearn.model_selection import train_test_split\n",
    "from sklearn.metrics import classification_report\n",
    "from sklearn.model_selection import cross_val_score\n",
    "from sklearn.neighbors import KNeighborsClassifier\n",
    "from sklearn.ensemble import RandomForestClassifier\n",
    "from sklearn.ensemble import GradientBoostingClassifier"
   ]
  },
  {
   "cell_type": "code",
   "execution_count": 2,
   "metadata": {},
   "outputs": [
    {
     "data": {
      "text/html": [
       "<div>\n",
       "<style scoped>\n",
       "    .dataframe tbody tr th:only-of-type {\n",
       "        vertical-align: middle;\n",
       "    }\n",
       "\n",
       "    .dataframe tbody tr th {\n",
       "        vertical-align: top;\n",
       "    }\n",
       "\n",
       "    .dataframe thead th {\n",
       "        text-align: right;\n",
       "    }\n",
       "</style>\n",
       "<table border=\"1\" class=\"dataframe\">\n",
       "  <thead>\n",
       "    <tr style=\"text-align: right;\">\n",
       "      <th></th>\n",
       "      <th>TARGET_FLAG</th>\n",
       "      <th>TARGET_AMT</th>\n",
       "      <th>KIDSDRIV</th>\n",
       "      <th>AGE</th>\n",
       "      <th>HOMEKIDS</th>\n",
       "      <th>YOJ</th>\n",
       "      <th>INCOME</th>\n",
       "      <th>PARENT1</th>\n",
       "      <th>HOME_VAL</th>\n",
       "      <th>MSTATUS</th>\n",
       "      <th>...</th>\n",
       "      <th>BLUEBOOK</th>\n",
       "      <th>TIF</th>\n",
       "      <th>CAR_TYPE</th>\n",
       "      <th>RED_CAR</th>\n",
       "      <th>OLDCLAIM</th>\n",
       "      <th>CLM_FREQ</th>\n",
       "      <th>REVOKED</th>\n",
       "      <th>MVR_PTS</th>\n",
       "      <th>CAR_AGE</th>\n",
       "      <th>URBANICITY</th>\n",
       "    </tr>\n",
       "    <tr>\n",
       "      <th>INDEX</th>\n",
       "      <th></th>\n",
       "      <th></th>\n",
       "      <th></th>\n",
       "      <th></th>\n",
       "      <th></th>\n",
       "      <th></th>\n",
       "      <th></th>\n",
       "      <th></th>\n",
       "      <th></th>\n",
       "      <th></th>\n",
       "      <th></th>\n",
       "      <th></th>\n",
       "      <th></th>\n",
       "      <th></th>\n",
       "      <th></th>\n",
       "      <th></th>\n",
       "      <th></th>\n",
       "      <th></th>\n",
       "      <th></th>\n",
       "      <th></th>\n",
       "      <th></th>\n",
       "    </tr>\n",
       "  </thead>\n",
       "  <tbody>\n",
       "    <tr>\n",
       "      <th>1</th>\n",
       "      <td>0</td>\n",
       "      <td>0.0</td>\n",
       "      <td>0</td>\n",
       "      <td>60.0</td>\n",
       "      <td>0</td>\n",
       "      <td>11.0</td>\n",
       "      <td>$67,349</td>\n",
       "      <td>No</td>\n",
       "      <td>$0</td>\n",
       "      <td>z_No</td>\n",
       "      <td>...</td>\n",
       "      <td>$14,230</td>\n",
       "      <td>11</td>\n",
       "      <td>Minivan</td>\n",
       "      <td>yes</td>\n",
       "      <td>$4,461</td>\n",
       "      <td>2</td>\n",
       "      <td>No</td>\n",
       "      <td>3</td>\n",
       "      <td>18.0</td>\n",
       "      <td>Highly Urban/ Urban</td>\n",
       "    </tr>\n",
       "    <tr>\n",
       "      <th>2</th>\n",
       "      <td>0</td>\n",
       "      <td>0.0</td>\n",
       "      <td>0</td>\n",
       "      <td>43.0</td>\n",
       "      <td>0</td>\n",
       "      <td>11.0</td>\n",
       "      <td>$91,449</td>\n",
       "      <td>No</td>\n",
       "      <td>$257,252</td>\n",
       "      <td>z_No</td>\n",
       "      <td>...</td>\n",
       "      <td>$14,940</td>\n",
       "      <td>1</td>\n",
       "      <td>Minivan</td>\n",
       "      <td>yes</td>\n",
       "      <td>$0</td>\n",
       "      <td>0</td>\n",
       "      <td>No</td>\n",
       "      <td>0</td>\n",
       "      <td>1.0</td>\n",
       "      <td>Highly Urban/ Urban</td>\n",
       "    </tr>\n",
       "    <tr>\n",
       "      <th>4</th>\n",
       "      <td>0</td>\n",
       "      <td>0.0</td>\n",
       "      <td>0</td>\n",
       "      <td>35.0</td>\n",
       "      <td>1</td>\n",
       "      <td>10.0</td>\n",
       "      <td>$16,039</td>\n",
       "      <td>No</td>\n",
       "      <td>$124,191</td>\n",
       "      <td>Yes</td>\n",
       "      <td>...</td>\n",
       "      <td>$4,010</td>\n",
       "      <td>4</td>\n",
       "      <td>z_SUV</td>\n",
       "      <td>no</td>\n",
       "      <td>$38,690</td>\n",
       "      <td>2</td>\n",
       "      <td>No</td>\n",
       "      <td>3</td>\n",
       "      <td>10.0</td>\n",
       "      <td>Highly Urban/ Urban</td>\n",
       "    </tr>\n",
       "    <tr>\n",
       "      <th>5</th>\n",
       "      <td>0</td>\n",
       "      <td>0.0</td>\n",
       "      <td>0</td>\n",
       "      <td>51.0</td>\n",
       "      <td>0</td>\n",
       "      <td>14.0</td>\n",
       "      <td>NaN</td>\n",
       "      <td>No</td>\n",
       "      <td>$306,251</td>\n",
       "      <td>Yes</td>\n",
       "      <td>...</td>\n",
       "      <td>$15,440</td>\n",
       "      <td>7</td>\n",
       "      <td>Minivan</td>\n",
       "      <td>yes</td>\n",
       "      <td>$0</td>\n",
       "      <td>0</td>\n",
       "      <td>No</td>\n",
       "      <td>0</td>\n",
       "      <td>6.0</td>\n",
       "      <td>Highly Urban/ Urban</td>\n",
       "    </tr>\n",
       "    <tr>\n",
       "      <th>6</th>\n",
       "      <td>0</td>\n",
       "      <td>0.0</td>\n",
       "      <td>0</td>\n",
       "      <td>50.0</td>\n",
       "      <td>0</td>\n",
       "      <td>NaN</td>\n",
       "      <td>$114,986</td>\n",
       "      <td>No</td>\n",
       "      <td>$243,925</td>\n",
       "      <td>Yes</td>\n",
       "      <td>...</td>\n",
       "      <td>$18,000</td>\n",
       "      <td>1</td>\n",
       "      <td>z_SUV</td>\n",
       "      <td>no</td>\n",
       "      <td>$19,217</td>\n",
       "      <td>2</td>\n",
       "      <td>Yes</td>\n",
       "      <td>3</td>\n",
       "      <td>17.0</td>\n",
       "      <td>Highly Urban/ Urban</td>\n",
       "    </tr>\n",
       "  </tbody>\n",
       "</table>\n",
       "<p>5 rows × 25 columns</p>\n",
       "</div>"
      ],
      "text/plain": [
       "       TARGET_FLAG  TARGET_AMT  KIDSDRIV   AGE  HOMEKIDS   YOJ    INCOME  \\\n",
       "INDEX                                                                      \n",
       "1                0         0.0         0  60.0         0  11.0   $67,349   \n",
       "2                0         0.0         0  43.0         0  11.0   $91,449   \n",
       "4                0         0.0         0  35.0         1  10.0   $16,039   \n",
       "5                0         0.0         0  51.0         0  14.0       NaN   \n",
       "6                0         0.0         0  50.0         0   NaN  $114,986   \n",
       "\n",
       "      PARENT1  HOME_VAL MSTATUS  ... BLUEBOOK TIF CAR_TYPE  RED_CAR OLDCLAIM  \\\n",
       "INDEX                            ...                                           \n",
       "1          No        $0    z_No  ...  $14,230  11  Minivan      yes   $4,461   \n",
       "2          No  $257,252    z_No  ...  $14,940   1  Minivan      yes       $0   \n",
       "4          No  $124,191     Yes  ...   $4,010   4    z_SUV       no  $38,690   \n",
       "5          No  $306,251     Yes  ...  $15,440   7  Minivan      yes       $0   \n",
       "6          No  $243,925     Yes  ...  $18,000   1    z_SUV       no  $19,217   \n",
       "\n",
       "      CLM_FREQ  REVOKED MVR_PTS CAR_AGE           URBANICITY  \n",
       "INDEX                                                         \n",
       "1            2       No       3    18.0  Highly Urban/ Urban  \n",
       "2            0       No       0     1.0  Highly Urban/ Urban  \n",
       "4            2       No       3    10.0  Highly Urban/ Urban  \n",
       "5            0       No       0     6.0  Highly Urban/ Urban  \n",
       "6            2      Yes       3    17.0  Highly Urban/ Urban  \n",
       "\n",
       "[5 rows x 25 columns]"
      ]
     },
     "execution_count": 2,
     "metadata": {},
     "output_type": "execute_result"
    }
   ],
   "source": [
    "PATH=r'C:\\Users\\CAMARA Yoane Ange E\\Desktop\\WPy64-3860\\notebooks\\Descartes_und'\n",
    "os.chdir(PATH)\n",
    "df_train=pd.read_csv(\"train_auto.csv\",index_col='INDEX')\n",
    "df_train_=df_train.copy()\n",
    "df_test=pd.read_csv(\"test_auto.csv\",index_col='INDEX')\n",
    "df_train.head()"
   ]
  },
  {
   "cell_type": "markdown",
   "metadata": {},
   "source": [
    "### From money amount to float "
   ]
  },
  {
   "cell_type": "code",
   "execution_count": 3,
   "metadata": {},
   "outputs": [
    {
     "name": "stdout",
     "output_type": "stream",
     "text": [
      "number of rows in another currencies 0\n"
     ]
    }
   ],
   "source": [
    "# check if all the currency for income are $\n",
    "print(\"number of rows in another currencies\",(df_train[\"INCOME\"].dropna().apply(lambda x:x[0]!='$')).sum())\n",
    "# change the columns [\"INCOME\",\"HOME_VAL\",\"BLUEBOOK\",\"OLDCLAIM\"]\n",
    "to_change=[\"INCOME\",\"HOME_VAL\",\"BLUEBOOK\",\"OLDCLAIM\"]\n",
    "for col in to_change:\n",
    "    df_train.loc[df_train[col].dropna().index,col]=df_train[col].dropna().apply(lambda x:float(x[1:].replace(',','')))\n",
    "    df_test.loc[df_test[col].dropna().index,col]=df_test[col].dropna().apply(lambda x:float(x[1:].replace(',','')))"
   ]
  },
  {
   "cell_type": "markdown",
   "metadata": {},
   "source": [
    "### Suppress the rows of the class 0 with NaN"
   ]
  },
  {
   "cell_type": "code",
   "execution_count": 4,
   "metadata": {},
   "outputs": [
    {
     "data": {
      "text/plain": [
       "0    6008\n",
       "1    2153\n",
       "Name: TARGET_FLAG, dtype: int64"
      ]
     },
     "execution_count": 4,
     "metadata": {},
     "output_type": "execute_result"
    }
   ],
   "source": [
    "df_train[\"TARGET_FLAG\"].value_counts()"
   ]
  },
  {
   "cell_type": "code",
   "execution_count": 5,
   "metadata": {},
   "outputs": [
    {
     "data": {
      "text/plain": [
       "TARGET_FLAG      0\n",
       "TARGET_AMT       0\n",
       "KIDSDRIV         0\n",
       "AGE              1\n",
       "HOMEKIDS         0\n",
       "YOJ            331\n",
       "INCOME         335\n",
       "PARENT1          0\n",
       "HOME_VAL       343\n",
       "MSTATUS          0\n",
       "SEX              0\n",
       "EDUCATION        0\n",
       "JOB            390\n",
       "TRAVTIME         0\n",
       "CAR_USE          0\n",
       "BLUEBOOK         0\n",
       "TIF              0\n",
       "CAR_TYPE         0\n",
       "RED_CAR          0\n",
       "OLDCLAIM         0\n",
       "CLM_FREQ         0\n",
       "REVOKED          0\n",
       "MVR_PTS          0\n",
       "CAR_AGE        368\n",
       "URBANICITY       0\n",
       "dtype: int64"
      ]
     },
     "execution_count": 5,
     "metadata": {},
     "output_type": "execute_result"
    }
   ],
   "source": [
    "## Stats sur les NaN \n",
    "df_train_0=df_train[df_train[\"TARGET_FLAG\"]==0]\n",
    "df_train_1=df_train[df_train[\"TARGET_FLAG\"]==1]\n",
    "df_train_0.isna().sum()"
   ]
  },
  {
   "cell_type": "markdown",
   "metadata": {},
   "source": [
    "**Commentary :** We have an imbalanced dataset with more elements of the class 0 than of the class 1. Also there is not that much rows from class 0 containing an NaN.Therefore, we can decide to just get rid of these rows and fill the ones with a NaN from class 1 with some chosen values.   "
   ]
  },
  {
   "cell_type": "code",
   "execution_count": 6,
   "metadata": {},
   "outputs": [],
   "source": [
    "df_train_0=df_train_0.dropna()\n",
    "#df_train=pd.concat([df_train_0,df_train_1])"
   ]
  },
  {
   "cell_type": "code",
   "execution_count": 7,
   "metadata": {},
   "outputs": [
    {
     "data": {
      "text/plain": [
       "TARGET_FLAG      0\n",
       "TARGET_AMT       0\n",
       "KIDSDRIV         0\n",
       "AGE              5\n",
       "HOMEKIDS         0\n",
       "YOJ            123\n",
       "INCOME         110\n",
       "PARENT1          0\n",
       "HOME_VAL       121\n",
       "MSTATUS          0\n",
       "SEX              0\n",
       "EDUCATION        0\n",
       "JOB            136\n",
       "TRAVTIME         0\n",
       "CAR_USE          0\n",
       "BLUEBOOK         0\n",
       "TIF              0\n",
       "CAR_TYPE         0\n",
       "RED_CAR          0\n",
       "OLDCLAIM         0\n",
       "CLM_FREQ         0\n",
       "REVOKED          0\n",
       "MVR_PTS          0\n",
       "CAR_AGE        142\n",
       "URBANICITY       0\n",
       "dtype: int64"
      ]
     },
     "execution_count": 7,
     "metadata": {},
     "output_type": "execute_result"
    }
   ],
   "source": [
    "df_train_1.isna().sum()"
   ]
  },
  {
   "cell_type": "markdown",
   "metadata": {},
   "source": [
    "**Commentary**: We use as filler the mean values for the columns <em>AGE, CAR_AGE and YOJ</em> and the most frequent value for the column <em>JOB</em> since they are the most probable values. However we decided to use the median for the column <em>INCOME and HOME_VAL</em> because these columns have some outliers which affect the value of the mean. The median in the other hand, is more robust to outliers and therefore should be a relatively fair estimation of an average person income and home value compared to the mean."
   ]
  },
  {
   "cell_type": "code",
   "execution_count": 8,
   "metadata": {},
   "outputs": [
    {
     "name": "stderr",
     "output_type": "stream",
     "text": [
      "C:\\Users\\CAMARA Yoane Ange E\\Desktop\\WPy64-3860\\python-3.8.6.amd64\\lib\\site-packages\\pandas\\core\\indexing.py:1745: SettingWithCopyWarning: \n",
      "A value is trying to be set on a copy of a slice from a DataFrame.\n",
      "Try using .loc[row_indexer,col_indexer] = value instead\n",
      "\n",
      "See the caveats in the documentation: https://pandas.pydata.org/pandas-docs/stable/user_guide/indexing.html#returning-a-view-versus-a-copy\n",
      "  isetter(ilocs[0], value)\n",
      "C:\\Users\\CAMARA Yoane Ange E\\Desktop\\WPy64-3860\\python-3.8.6.amd64\\lib\\site-packages\\pandas\\core\\indexing.py:1717: SettingWithCopyWarning: \n",
      "A value is trying to be set on a copy of a slice from a DataFrame.\n",
      "Try using .loc[row_indexer,col_indexer] = value instead\n",
      "\n",
      "See the caveats in the documentation: https://pandas.pydata.org/pandas-docs/stable/user_guide/indexing.html#returning-a-view-versus-a-copy\n",
      "  isetter(loc, v)\n"
     ]
    }
   ],
   "source": [
    "mean_age=df_train_1[\"AGE\"].mean()\n",
    "mean_car_age=df_train_1[\"CAR_AGE\"].mean()\n",
    "most_freq_job=df_train_1[\"JOB\"].value_counts().index[0]\n",
    "median_income=df_train_1[\"INCOME\"].median()\n",
    "median_hv=df_train_1[\"HOME_VAL\"].median()\n",
    "mean_yoj=df_train_1[\"YOJ\"].mean()\n",
    "\n",
    "df_train_1.loc[:,\"AGE\"]=df_train_1[\"AGE\"].fillna(value=mean_age) #43\n",
    "df_train_1.loc[:,'CAR_AGE']=df_train_1.fillna(value=mean_car_age)\n",
    "df_train_1.loc[:,'JOB']=df_train_1.fillna(value=most_freq_job)\n",
    "df_train_1.loc[:,'INCOME']=df_train_1.fillna(value=median_income)\n",
    "df_train_1.loc[:,'HOME_VAL']=df_train_1.fillna(value=median_hv)\n",
    "df_train_1.loc[:,'YOJ']=df_train_1.fillna(value=mean_yoj)\n",
    "\n",
    "df_train_0=df_train_0.dropna()\n",
    "\n",
    "df_train=pd.concat([df_train_1,df_train_0],ignore_index=True)"
   ]
  },
  {
   "cell_type": "code",
   "execution_count": 9,
   "metadata": {},
   "outputs": [
    {
     "data": {
      "text/plain": [
       "KIDSDRIV        0\n",
       "AGE             1\n",
       "HOMEKIDS        0\n",
       "YOJ            94\n",
       "INCOME        125\n",
       "PARENT1         0\n",
       "HOME_VAL      111\n",
       "MSTATUS         0\n",
       "SEX             0\n",
       "EDUCATION       0\n",
       "JOB           139\n",
       "TRAVTIME        0\n",
       "CAR_USE         0\n",
       "BLUEBOOK        0\n",
       "TIF             0\n",
       "CAR_TYPE        0\n",
       "RED_CAR         0\n",
       "OLDCLAIM        0\n",
       "CLM_FREQ        0\n",
       "REVOKED         0\n",
       "MVR_PTS         0\n",
       "CAR_AGE       129\n",
       "URBANICITY      0\n",
       "dtype: int64"
      ]
     },
     "execution_count": 9,
     "metadata": {},
     "output_type": "execute_result"
    }
   ],
   "source": [
    "df_test.drop([\"TARGET_FLAG\",\"TARGET_AMT\"],axis=1).isna().sum()"
   ]
  },
  {
   "cell_type": "code",
   "execution_count": 10,
   "metadata": {},
   "outputs": [],
   "source": [
    "## Fillna for the test \n",
    "\n",
    "mean_car=df_test[\"CAR_AGE\"].mean()\n",
    "most_freq_job=df_test[\"JOB\"].value_counts().index[0]\n",
    "median_income=df_test[\"INCOME\"].median()\n",
    "median_hv=df_test[\"HOME_VAL\"].median()\n",
    "mean_yoj=df_test[\"YOJ\"].mean()\n",
    "\n",
    "df_test.loc[:,\"AGE\"]=df_test[\"AGE\"].fillna(value=43)\n",
    "df_test.loc[:,'CAR_AGE']=df_test.fillna(value=mean_car)\n",
    "df_test.loc[:,'JOB']=df_test.fillna(value=most_freq_job)\n",
    "df_test.loc[:,'INCOME']=df_test.fillna(value=median_income)\n",
    "df_test.loc[:,'HOME_VAL']=df_test.fillna(value=median_hv)\n",
    "df_test.loc[:,'YOJ']=df_test.fillna(value=mean_yoj)\n"
   ]
  },
  {
   "cell_type": "markdown",
   "metadata": {},
   "source": [
    "**Commentary** : Here, we numerize the columns that needed to be in order for them to be exploitable by a machine learning algorithm"
   ]
  },
  {
   "cell_type": "markdown",
   "metadata": {},
   "source": [
    "### NUMERISATION "
   ]
  },
  {
   "cell_type": "code",
   "execution_count": 11,
   "metadata": {},
   "outputs": [
    {
     "data": {
      "text/plain": [
       "KIDSDRIV        int64\n",
       "AGE           float64\n",
       "HOMEKIDS        int64\n",
       "YOJ           float64\n",
       "INCOME         object\n",
       "PARENT1        object\n",
       "HOME_VAL       object\n",
       "MSTATUS        object\n",
       "SEX            object\n",
       "EDUCATION      object\n",
       "JOB            object\n",
       "TRAVTIME        int64\n",
       "CAR_USE        object\n",
       "BLUEBOOK      float64\n",
       "TIF             int64\n",
       "CAR_TYPE       object\n",
       "RED_CAR        object\n",
       "OLDCLAIM      float64\n",
       "CLM_FREQ        int64\n",
       "REVOKED        object\n",
       "MVR_PTS         int64\n",
       "CAR_AGE       float64\n",
       "URBANICITY     object\n",
       "dtype: object"
      ]
     },
     "execution_count": 11,
     "metadata": {},
     "output_type": "execute_result"
    }
   ],
   "source": [
    "df_train.drop([\"TARGET_FLAG\",\"TARGET_AMT\"],axis=1).dtypes"
   ]
  },
  {
   "cell_type": "code",
   "execution_count": 12,
   "metadata": {},
   "outputs": [
    {
     "data": {
      "text/html": [
       "<div>\n",
       "<style scoped>\n",
       "    .dataframe tbody tr th:only-of-type {\n",
       "        vertical-align: middle;\n",
       "    }\n",
       "\n",
       "    .dataframe tbody tr th {\n",
       "        vertical-align: top;\n",
       "    }\n",
       "\n",
       "    .dataframe thead th {\n",
       "        text-align: right;\n",
       "    }\n",
       "</style>\n",
       "<table border=\"1\" class=\"dataframe\">\n",
       "  <thead>\n",
       "    <tr style=\"text-align: right;\">\n",
       "      <th></th>\n",
       "      <th>INCOME</th>\n",
       "      <th>HOME_VAL</th>\n",
       "      <th>BLUEBOOK</th>\n",
       "      <th>OLDCLAIM</th>\n",
       "    </tr>\n",
       "  </thead>\n",
       "  <tbody>\n",
       "    <tr>\n",
       "      <th>0</th>\n",
       "      <td>125301</td>\n",
       "      <td>0</td>\n",
       "      <td>17430.0</td>\n",
       "      <td>0.0</td>\n",
       "    </tr>\n",
       "    <tr>\n",
       "      <th>1</th>\n",
       "      <td>107961</td>\n",
       "      <td>333680</td>\n",
       "      <td>16970.0</td>\n",
       "      <td>2374.0</td>\n",
       "    </tr>\n",
       "    <tr>\n",
       "      <th>2</th>\n",
       "      <td>62978</td>\n",
       "      <td>0</td>\n",
       "      <td>11200.0</td>\n",
       "      <td>0.0</td>\n",
       "    </tr>\n",
       "  </tbody>\n",
       "</table>\n",
       "</div>"
      ],
      "text/plain": [
       "   INCOME HOME_VAL  BLUEBOOK  OLDCLAIM\n",
       "0  125301        0   17430.0       0.0\n",
       "1  107961   333680   16970.0    2374.0\n",
       "2   62978        0   11200.0       0.0"
      ]
     },
     "execution_count": 12,
     "metadata": {},
     "output_type": "execute_result"
    }
   ],
   "source": [
    "df_train[to_change].head(3)"
   ]
  },
  {
   "cell_type": "markdown",
   "metadata": {},
   "source": [
    "We firstly use one-hot encoding for categorical data"
   ]
  },
  {
   "cell_type": "code",
   "execution_count": 13,
   "metadata": {
    "scrolled": true
   },
   "outputs": [
    {
     "data": {
      "text/html": [
       "<div>\n",
       "<style scoped>\n",
       "    .dataframe tbody tr th:only-of-type {\n",
       "        vertical-align: middle;\n",
       "    }\n",
       "\n",
       "    .dataframe tbody tr th {\n",
       "        vertical-align: top;\n",
       "    }\n",
       "\n",
       "    .dataframe thead th {\n",
       "        text-align: right;\n",
       "    }\n",
       "</style>\n",
       "<table border=\"1\" class=\"dataframe\">\n",
       "  <thead>\n",
       "    <tr style=\"text-align: right;\">\n",
       "      <th></th>\n",
       "      <th>TARGET_FLAG</th>\n",
       "      <th>TARGET_AMT</th>\n",
       "      <th>KIDSDRIV</th>\n",
       "      <th>AGE</th>\n",
       "      <th>HOMEKIDS</th>\n",
       "      <th>YOJ</th>\n",
       "      <th>INCOME</th>\n",
       "      <th>HOME_VAL</th>\n",
       "      <th>EDUCATION</th>\n",
       "      <th>TRAVTIME</th>\n",
       "      <th>...</th>\n",
       "      <th>CAR_TYPE_Sports Car</th>\n",
       "      <th>CAR_TYPE_Van</th>\n",
       "      <th>CAR_TYPE_z_SUV</th>\n",
       "      <th>URBANICITY_z_Highly Rural/ Rural</th>\n",
       "      <th>CAR_USE_Private</th>\n",
       "      <th>REVOKED_Yes</th>\n",
       "      <th>MSTATUS_z_No</th>\n",
       "      <th>SEX_z_F</th>\n",
       "      <th>RED_CAR_yes</th>\n",
       "      <th>PARENT1_Yes</th>\n",
       "    </tr>\n",
       "  </thead>\n",
       "  <tbody>\n",
       "    <tr>\n",
       "      <th>0</th>\n",
       "      <td>1</td>\n",
       "      <td>2946.0</td>\n",
       "      <td>0</td>\n",
       "      <td>34.0</td>\n",
       "      <td>1</td>\n",
       "      <td>12.000000</td>\n",
       "      <td>125301</td>\n",
       "      <td>0</td>\n",
       "      <td>Bachelors</td>\n",
       "      <td>46</td>\n",
       "      <td>...</td>\n",
       "      <td>1</td>\n",
       "      <td>0</td>\n",
       "      <td>0</td>\n",
       "      <td>0</td>\n",
       "      <td>0</td>\n",
       "      <td>0</td>\n",
       "      <td>1</td>\n",
       "      <td>1</td>\n",
       "      <td>0</td>\n",
       "      <td>1</td>\n",
       "    </tr>\n",
       "    <tr>\n",
       "      <th>1</th>\n",
       "      <td>1</td>\n",
       "      <td>4021.0</td>\n",
       "      <td>1</td>\n",
       "      <td>37.0</td>\n",
       "      <td>2</td>\n",
       "      <td>10.016749</td>\n",
       "      <td>107961</td>\n",
       "      <td>333680</td>\n",
       "      <td>Bachelors</td>\n",
       "      <td>44</td>\n",
       "      <td>...</td>\n",
       "      <td>0</td>\n",
       "      <td>1</td>\n",
       "      <td>0</td>\n",
       "      <td>0</td>\n",
       "      <td>0</td>\n",
       "      <td>1</td>\n",
       "      <td>0</td>\n",
       "      <td>0</td>\n",
       "      <td>1</td>\n",
       "      <td>0</td>\n",
       "    </tr>\n",
       "    <tr>\n",
       "      <th>2</th>\n",
       "      <td>1</td>\n",
       "      <td>2501.0</td>\n",
       "      <td>0</td>\n",
       "      <td>34.0</td>\n",
       "      <td>0</td>\n",
       "      <td>10.000000</td>\n",
       "      <td>62978</td>\n",
       "      <td>0</td>\n",
       "      <td>Bachelors</td>\n",
       "      <td>34</td>\n",
       "      <td>...</td>\n",
       "      <td>0</td>\n",
       "      <td>0</td>\n",
       "      <td>1</td>\n",
       "      <td>0</td>\n",
       "      <td>1</td>\n",
       "      <td>0</td>\n",
       "      <td>1</td>\n",
       "      <td>1</td>\n",
       "      <td>0</td>\n",
       "      <td>0</td>\n",
       "    </tr>\n",
       "    <tr>\n",
       "      <th>3</th>\n",
       "      <td>1</td>\n",
       "      <td>6077.0</td>\n",
       "      <td>0</td>\n",
       "      <td>53.0</td>\n",
       "      <td>0</td>\n",
       "      <td>14.000000</td>\n",
       "      <td>77100</td>\n",
       "      <td>0</td>\n",
       "      <td>Masters</td>\n",
       "      <td>15</td>\n",
       "      <td>...</td>\n",
       "      <td>1</td>\n",
       "      <td>0</td>\n",
       "      <td>0</td>\n",
       "      <td>0</td>\n",
       "      <td>1</td>\n",
       "      <td>0</td>\n",
       "      <td>1</td>\n",
       "      <td>1</td>\n",
       "      <td>0</td>\n",
       "      <td>0</td>\n",
       "    </tr>\n",
       "    <tr>\n",
       "      <th>4</th>\n",
       "      <td>1</td>\n",
       "      <td>1267.0</td>\n",
       "      <td>0</td>\n",
       "      <td>53.0</td>\n",
       "      <td>0</td>\n",
       "      <td>11.000000</td>\n",
       "      <td>130795</td>\n",
       "      <td>0</td>\n",
       "      <td>PhD</td>\n",
       "      <td>64</td>\n",
       "      <td>...</td>\n",
       "      <td>0</td>\n",
       "      <td>0</td>\n",
       "      <td>0</td>\n",
       "      <td>0</td>\n",
       "      <td>0</td>\n",
       "      <td>0</td>\n",
       "      <td>1</td>\n",
       "      <td>0</td>\n",
       "      <td>1</td>\n",
       "      <td>0</td>\n",
       "    </tr>\n",
       "    <tr>\n",
       "      <th>...</th>\n",
       "      <td>...</td>\n",
       "      <td>...</td>\n",
       "      <td>...</td>\n",
       "      <td>...</td>\n",
       "      <td>...</td>\n",
       "      <td>...</td>\n",
       "      <td>...</td>\n",
       "      <td>...</td>\n",
       "      <td>...</td>\n",
       "      <td>...</td>\n",
       "      <td>...</td>\n",
       "      <td>...</td>\n",
       "      <td>...</td>\n",
       "      <td>...</td>\n",
       "      <td>...</td>\n",
       "      <td>...</td>\n",
       "      <td>...</td>\n",
       "      <td>...</td>\n",
       "      <td>...</td>\n",
       "      <td>...</td>\n",
       "      <td>...</td>\n",
       "    </tr>\n",
       "    <tr>\n",
       "      <th>6591</th>\n",
       "      <td>0</td>\n",
       "      <td>0.0</td>\n",
       "      <td>0</td>\n",
       "      <td>41.0</td>\n",
       "      <td>0</td>\n",
       "      <td>7.000000</td>\n",
       "      <td>6256</td>\n",
       "      <td>0</td>\n",
       "      <td>z_High School</td>\n",
       "      <td>41</td>\n",
       "      <td>...</td>\n",
       "      <td>0</td>\n",
       "      <td>0</td>\n",
       "      <td>0</td>\n",
       "      <td>1</td>\n",
       "      <td>1</td>\n",
       "      <td>0</td>\n",
       "      <td>1</td>\n",
       "      <td>0</td>\n",
       "      <td>0</td>\n",
       "      <td>0</td>\n",
       "    </tr>\n",
       "    <tr>\n",
       "      <th>6592</th>\n",
       "      <td>0</td>\n",
       "      <td>0.0</td>\n",
       "      <td>0</td>\n",
       "      <td>35.0</td>\n",
       "      <td>0</td>\n",
       "      <td>11.000000</td>\n",
       "      <td>43112</td>\n",
       "      <td>0</td>\n",
       "      <td>z_High School</td>\n",
       "      <td>51</td>\n",
       "      <td>...</td>\n",
       "      <td>0</td>\n",
       "      <td>0</td>\n",
       "      <td>0</td>\n",
       "      <td>1</td>\n",
       "      <td>0</td>\n",
       "      <td>0</td>\n",
       "      <td>1</td>\n",
       "      <td>0</td>\n",
       "      <td>1</td>\n",
       "      <td>0</td>\n",
       "    </tr>\n",
       "    <tr>\n",
       "      <th>6593</th>\n",
       "      <td>0</td>\n",
       "      <td>0.0</td>\n",
       "      <td>1</td>\n",
       "      <td>45.0</td>\n",
       "      <td>2</td>\n",
       "      <td>9.000000</td>\n",
       "      <td>164669</td>\n",
       "      <td>386273</td>\n",
       "      <td>PhD</td>\n",
       "      <td>21</td>\n",
       "      <td>...</td>\n",
       "      <td>0</td>\n",
       "      <td>0</td>\n",
       "      <td>0</td>\n",
       "      <td>0</td>\n",
       "      <td>1</td>\n",
       "      <td>0</td>\n",
       "      <td>0</td>\n",
       "      <td>0</td>\n",
       "      <td>0</td>\n",
       "      <td>0</td>\n",
       "    </tr>\n",
       "    <tr>\n",
       "      <th>6594</th>\n",
       "      <td>0</td>\n",
       "      <td>0.0</td>\n",
       "      <td>0</td>\n",
       "      <td>50.0</td>\n",
       "      <td>0</td>\n",
       "      <td>7.000000</td>\n",
       "      <td>43445</td>\n",
       "      <td>149248</td>\n",
       "      <td>Bachelors</td>\n",
       "      <td>36</td>\n",
       "      <td>...</td>\n",
       "      <td>0</td>\n",
       "      <td>0</td>\n",
       "      <td>0</td>\n",
       "      <td>0</td>\n",
       "      <td>1</td>\n",
       "      <td>0</td>\n",
       "      <td>0</td>\n",
       "      <td>1</td>\n",
       "      <td>0</td>\n",
       "      <td>0</td>\n",
       "    </tr>\n",
       "    <tr>\n",
       "      <th>6595</th>\n",
       "      <td>0</td>\n",
       "      <td>0.0</td>\n",
       "      <td>0</td>\n",
       "      <td>52.0</td>\n",
       "      <td>0</td>\n",
       "      <td>11.000000</td>\n",
       "      <td>53235</td>\n",
       "      <td>197017</td>\n",
       "      <td>z_High School</td>\n",
       "      <td>64</td>\n",
       "      <td>...</td>\n",
       "      <td>0</td>\n",
       "      <td>0</td>\n",
       "      <td>0</td>\n",
       "      <td>1</td>\n",
       "      <td>1</td>\n",
       "      <td>0</td>\n",
       "      <td>0</td>\n",
       "      <td>1</td>\n",
       "      <td>0</td>\n",
       "      <td>0</td>\n",
       "    </tr>\n",
       "  </tbody>\n",
       "</table>\n",
       "<p>6596 rows × 37 columns</p>\n",
       "</div>"
      ],
      "text/plain": [
       "      TARGET_FLAG  TARGET_AMT  KIDSDRIV   AGE  HOMEKIDS        YOJ  INCOME  \\\n",
       "0               1      2946.0         0  34.0         1  12.000000  125301   \n",
       "1               1      4021.0         1  37.0         2  10.016749  107961   \n",
       "2               1      2501.0         0  34.0         0  10.000000   62978   \n",
       "3               1      6077.0         0  53.0         0  14.000000   77100   \n",
       "4               1      1267.0         0  53.0         0  11.000000  130795   \n",
       "...           ...         ...       ...   ...       ...        ...     ...   \n",
       "6591            0         0.0         0  41.0         0   7.000000    6256   \n",
       "6592            0         0.0         0  35.0         0  11.000000   43112   \n",
       "6593            0         0.0         1  45.0         2   9.000000  164669   \n",
       "6594            0         0.0         0  50.0         0   7.000000   43445   \n",
       "6595            0         0.0         0  52.0         0  11.000000   53235   \n",
       "\n",
       "     HOME_VAL      EDUCATION  TRAVTIME  ...  CAR_TYPE_Sports Car  \\\n",
       "0           0      Bachelors        46  ...                    1   \n",
       "1      333680      Bachelors        44  ...                    0   \n",
       "2           0      Bachelors        34  ...                    0   \n",
       "3           0        Masters        15  ...                    1   \n",
       "4           0            PhD        64  ...                    0   \n",
       "...       ...            ...       ...  ...                  ...   \n",
       "6591        0  z_High School        41  ...                    0   \n",
       "6592        0  z_High School        51  ...                    0   \n",
       "6593   386273            PhD        21  ...                    0   \n",
       "6594   149248      Bachelors        36  ...                    0   \n",
       "6595   197017  z_High School        64  ...                    0   \n",
       "\n",
       "      CAR_TYPE_Van  CAR_TYPE_z_SUV  URBANICITY_z_Highly Rural/ Rural  \\\n",
       "0                0               0                                 0   \n",
       "1                1               0                                 0   \n",
       "2                0               1                                 0   \n",
       "3                0               0                                 0   \n",
       "4                0               0                                 0   \n",
       "...            ...             ...                               ...   \n",
       "6591             0               0                                 1   \n",
       "6592             0               0                                 1   \n",
       "6593             0               0                                 0   \n",
       "6594             0               0                                 0   \n",
       "6595             0               0                                 1   \n",
       "\n",
       "      CAR_USE_Private  REVOKED_Yes  MSTATUS_z_No  SEX_z_F  RED_CAR_yes  \\\n",
       "0                   0            0             1        1            0   \n",
       "1                   0            1             0        0            1   \n",
       "2                   1            0             1        1            0   \n",
       "3                   1            0             1        1            0   \n",
       "4                   0            0             1        0            1   \n",
       "...               ...          ...           ...      ...          ...   \n",
       "6591                1            0             1        0            0   \n",
       "6592                0            0             1        0            1   \n",
       "6593                1            0             0        0            0   \n",
       "6594                1            0             0        1            0   \n",
       "6595                1            0             0        1            0   \n",
       "\n",
       "      PARENT1_Yes  \n",
       "0               1  \n",
       "1               0  \n",
       "2               0  \n",
       "3               0  \n",
       "4               0  \n",
       "...           ...  \n",
       "6591            0  \n",
       "6592            0  \n",
       "6593            0  \n",
       "6594            0  \n",
       "6595            0  \n",
       "\n",
       "[6596 rows x 37 columns]"
      ]
     },
     "execution_count": 13,
     "metadata": {},
     "output_type": "execute_result"
    }
   ],
   "source": [
    "categorical_col=[\"JOB\",\"CAR_TYPE\"]\n",
    "binary_col=[\"URBANICITY\",\"CAR_USE\",\"REVOKED\",\"MSTATUS\",\"SEX\",\"RED_CAR\",\"PARENT1\"]\n",
    "df_train=pd.get_dummies(df_train,columns=categorical_col)\n",
    "df_train=pd.get_dummies(df_train,columns=binary_col,drop_first=True)\n",
    "df_test=pd.get_dummies(df_test,columns=categorical_col)\n",
    "df_test=pd.get_dummies(df_test,columns=binary_col,drop_first=True)\n",
    "df_train\n"
   ]
  },
  {
   "cell_type": "markdown",
   "metadata": {},
   "source": [
    "And we replace the values by numbers for ordinal data"
   ]
  },
  {
   "cell_type": "code",
   "execution_count": 14,
   "metadata": {
    "scrolled": true
   },
   "outputs": [],
   "source": [
    "# Can be ranked: \"EDUCATION\",\"\" \n",
    "levels={\"<High School\":1,\"z_High School\":2,\"Bachelors\":3,\"Masters\":4,\"PhD\":5}\n",
    "df_train[\"EDUCATION\"]=df_train[\"EDUCATION\"].replace(levels)\n",
    "df_test[\"EDUCATION\"]=df_test[\"EDUCATION\"].replace(levels)"
   ]
  },
  {
   "cell_type": "code",
   "execution_count": 15,
   "metadata": {},
   "outputs": [],
   "source": [
    "df_train=df_train.drop('TARGET_AMT',axis=1)\n",
    "df_test=df_test.drop(\"TARGET_AMT\",axis=1)"
   ]
  },
  {
   "cell_type": "markdown",
   "metadata": {},
   "source": [
    "### CORRELATIONS"
   ]
  },
  {
   "cell_type": "markdown",
   "metadata": {},
   "source": [
    "**Commentary** : We introduce a new column called <em>per</em> for percentage. it represents the part of the actual value of the car that have been reimbursed by insurances. Also it is a ways to model the interaction between these two variables "
   ]
  },
  {
   "cell_type": "code",
   "execution_count": 16,
   "metadata": {},
   "outputs": [],
   "source": [
    "## Introduce some new features \n",
    "df_train[\"per\"]=df_train[\"OLDCLAIM\"]/df_train[\"BLUEBOOK\"]\n",
    "\n",
    "\n",
    "df_test[\"per\"]=df_test[\"OLDCLAIM\"]/df_test[\"BLUEBOOK\"]"
   ]
  },
  {
   "cell_type": "markdown",
   "metadata": {},
   "source": [
    "**Commentary**: Since we have very few instances in some categories, we decided to regroup them in bigger categories. Hence, we ended up with only two categories for <em>CAR_TYPE</em> which are <em>van</em> (for Minivan, Panel Truck and Van) and <em>car</em> (for Pickup, Sports Car and SUV). \n",
    "For the type of jobs, we decided to only keep the column <em>JOB_z_Blue Collar</em> which is 1 for previous instances of this column and instances of <em>JOB_HOME Maker</em> and 0 for all the others rows.\n",
    "Also, we create the column <em>master</em> as a simplified version of the column <em>EDUCATION</em>. It makes the distinction between people with and without the master level."
   ]
  },
  {
   "cell_type": "code",
   "execution_count": 17,
   "metadata": {},
   "outputs": [
    {
     "data": {
      "text/plain": [
       "z_High School    2330\n",
       "Bachelors        2242\n",
       "Masters          1658\n",
       "<High School     1203\n",
       "PhD               728\n",
       "Name: EDUCATION, dtype: int64"
      ]
     },
     "execution_count": 17,
     "metadata": {},
     "output_type": "execute_result"
    }
   ],
   "source": [
    "df_train_[\"EDUCATION\"].value_counts()"
   ]
  },
  {
   "cell_type": "code",
   "execution_count": 18,
   "metadata": {},
   "outputs": [
    {
     "data": {
      "text/plain": [
       "z_SUV          2294\n",
       "Minivan        2145\n",
       "Pickup         1389\n",
       "Sports Car      907\n",
       "Van             750\n",
       "Panel Truck     676\n",
       "Name: CAR_TYPE, dtype: int64"
      ]
     },
     "execution_count": 18,
     "metadata": {},
     "output_type": "execute_result"
    }
   ],
   "source": [
    "df_train_[\"CAR_TYPE\"].value_counts()"
   ]
  },
  {
   "cell_type": "code",
   "execution_count": 19,
   "metadata": {},
   "outputs": [
    {
     "data": {
      "text/plain": [
       "z_Blue Collar    1825\n",
       "Clerical         1271\n",
       "Professional     1117\n",
       "Manager           988\n",
       "Lawyer            835\n",
       "Student           712\n",
       "Home Maker        641\n",
       "Doctor            246\n",
       "Name: JOB, dtype: int64"
      ]
     },
     "execution_count": 19,
     "metadata": {},
     "output_type": "execute_result"
    }
   ],
   "source": [
    "df_train_[\"JOB\"].value_counts()"
   ]
  },
  {
   "cell_type": "code",
   "execution_count": 20,
   "metadata": {},
   "outputs": [],
   "source": [
    "df_train[\"master\"]=df_train.apply(lambda x:(x[\"EDUCATION\"]>=3)*1.0,axis=1)\n",
    "df_train[\"van\"]=df_train[\"CAR_TYPE_Minivan\"]+df_train[\"CAR_TYPE_Panel Truck\"]+df_train[\"CAR_TYPE_Van\"]\n",
    "df_train[\"car\"]=df_train[\"CAR_TYPE_Pickup\"]+df_train[\"CAR_TYPE_Sports Car\"]+df_train[\"CAR_TYPE_z_SUV\"]\n",
    "df_train[\"blue_collar\"]=df_train[\"JOB_z_Blue Collar\"]+df_train[\"JOB_Home Maker\"]\n",
    "\n",
    "df_test[\"master\"]=df_test.apply(lambda x:(x[\"EDUCATION\"]>=3)*1.0,axis=1)\n",
    "df_test[\"van\"]=df_test[\"CAR_TYPE_Minivan\"]+df_test[\"CAR_TYPE_Panel Truck\"]+df_test[\"CAR_TYPE_Van\"]\n",
    "df_test[\"car\"]=df_test[\"CAR_TYPE_Pickup\"]+df_test[\"CAR_TYPE_Sports Car\"]\n",
    "df_test[\"blue_collar\"]=df_test[\"JOB_z_Blue Collar\"]+df_test[\"JOB_Home Maker\"]"
   ]
  },
  {
   "cell_type": "code",
   "execution_count": 21,
   "metadata": {},
   "outputs": [
    {
     "data": {
      "text/plain": [
       "KIDSDRIV                            0.100258\n",
       "AGE                                -0.103783\n",
       "HOMEKIDS                            0.110969\n",
       "YOJ                                -0.073284\n",
       "EDUCATION                          -0.099923\n",
       "TRAVTIME                            0.046453\n",
       "BLUEBOOK                           -0.087379\n",
       "TIF                                -0.088233\n",
       "OLDCLAIM                            0.146306\n",
       "CLM_FREQ                            0.237326\n",
       "MVR_PTS                             0.230776\n",
       "CAR_AGE                            -0.077895\n",
       "JOB_Manager                        -0.127276\n",
       "JOB_z_Blue Collar                   0.150376\n",
       "CAR_TYPE_Minivan                   -0.167955\n",
       "URBANICITY_z_Highly Rural/ Rural   -0.255065\n",
       "CAR_USE_Private                    -0.190429\n",
       "REVOKED_Yes                         0.153496\n",
       "MSTATUS_z_No                        0.137800\n",
       "SEX_z_F                             0.004847\n",
       "RED_CAR_yes                        -0.000421\n",
       "PARENT1_Yes                         0.159455\n",
       "per                                 0.130525\n",
       "master                             -0.116816\n",
       "van                                -0.113943\n",
       "car                                 0.113943\n",
       "blue_collar                         0.143931\n",
       "Name: TARGET_FLAG, dtype: float64"
      ]
     },
     "execution_count": 21,
     "metadata": {},
     "output_type": "execute_result"
    }
   ],
   "source": [
    "df_train=df_train.drop([\"JOB_Clerical\",'JOB_Lawyer',\"JOB_Doctor\",\"JOB_Home Maker\",\"JOB_Professional\",\"JOB_Student\",\n",
    "                       \"CAR_TYPE_Panel Truck\",\"CAR_TYPE_Pickup\",\"CAR_TYPE_Sports Car\",\"CAR_TYPE_Van\",\"CAR_TYPE_z_SUV\"],axis=1)\n",
    "df_test=df_test.drop([\"JOB_Clerical\",'JOB_Lawyer',\"JOB_Doctor\",\"JOB_Home Maker\",\"JOB_Professional\",\"JOB_Student\",\n",
    "                       \"CAR_TYPE_Panel Truck\",\"CAR_TYPE_Pickup\",\"CAR_TYPE_Sports Car\",\"CAR_TYPE_Van\",\"CAR_TYPE_z_SUV\"],axis=1)\n",
    "\n",
    "df_train=df_train.sample(frac=1)\n",
    "df_test=df_test.sample(frac=1)\n",
    "df_train.corr()[\"TARGET_FLAG\"].drop(\"TARGET_FLAG\")"
   ]
  },
  {
   "cell_type": "markdown",
   "metadata": {},
   "source": [
    "If the data are linearly separable, we should be able to find the separable hyperplan with a simple perpceptron. Let's test this model first:"
   ]
  },
  {
   "cell_type": "code",
   "execution_count": 22,
   "metadata": {
    "scrolled": false
   },
   "outputs": [
    {
     "data": {
      "text/html": [
       "<div>\n",
       "<style scoped>\n",
       "    .dataframe tbody tr th:only-of-type {\n",
       "        vertical-align: middle;\n",
       "    }\n",
       "\n",
       "    .dataframe tbody tr th {\n",
       "        vertical-align: top;\n",
       "    }\n",
       "\n",
       "    .dataframe thead th {\n",
       "        text-align: right;\n",
       "    }\n",
       "</style>\n",
       "<table border=\"1\" class=\"dataframe\">\n",
       "  <thead>\n",
       "    <tr style=\"text-align: right;\">\n",
       "      <th></th>\n",
       "      <th>TARGET_FLAG</th>\n",
       "      <th>KIDSDRIV</th>\n",
       "      <th>AGE</th>\n",
       "      <th>HOMEKIDS</th>\n",
       "      <th>YOJ</th>\n",
       "      <th>INCOME</th>\n",
       "      <th>HOME_VAL</th>\n",
       "      <th>EDUCATION</th>\n",
       "      <th>TRAVTIME</th>\n",
       "      <th>BLUEBOOK</th>\n",
       "      <th>...</th>\n",
       "      <th>REVOKED_Yes</th>\n",
       "      <th>MSTATUS_z_No</th>\n",
       "      <th>SEX_z_F</th>\n",
       "      <th>RED_CAR_yes</th>\n",
       "      <th>PARENT1_Yes</th>\n",
       "      <th>per</th>\n",
       "      <th>master</th>\n",
       "      <th>van</th>\n",
       "      <th>car</th>\n",
       "      <th>blue_collar</th>\n",
       "    </tr>\n",
       "  </thead>\n",
       "  <tbody>\n",
       "    <tr>\n",
       "      <th>1833</th>\n",
       "      <td>1</td>\n",
       "      <td>0</td>\n",
       "      <td>27.0</td>\n",
       "      <td>2</td>\n",
       "      <td>10.0</td>\n",
       "      <td>17686</td>\n",
       "      <td>136423</td>\n",
       "      <td>1</td>\n",
       "      <td>60</td>\n",
       "      <td>10050.0</td>\n",
       "      <td>...</td>\n",
       "      <td>0</td>\n",
       "      <td>0</td>\n",
       "      <td>1</td>\n",
       "      <td>0</td>\n",
       "      <td>0</td>\n",
       "      <td>0.540597</td>\n",
       "      <td>0.0</td>\n",
       "      <td>1</td>\n",
       "      <td>0</td>\n",
       "      <td>0</td>\n",
       "    </tr>\n",
       "    <tr>\n",
       "      <th>2145</th>\n",
       "      <td>1</td>\n",
       "      <td>1</td>\n",
       "      <td>56.0</td>\n",
       "      <td>2</td>\n",
       "      <td>14.0</td>\n",
       "      <td>176849</td>\n",
       "      <td>430830</td>\n",
       "      <td>3</td>\n",
       "      <td>37</td>\n",
       "      <td>26470.0</td>\n",
       "      <td>...</td>\n",
       "      <td>0</td>\n",
       "      <td>0</td>\n",
       "      <td>1</td>\n",
       "      <td>0</td>\n",
       "      <td>0</td>\n",
       "      <td>0.000000</td>\n",
       "      <td>1.0</td>\n",
       "      <td>0</td>\n",
       "      <td>1</td>\n",
       "      <td>1</td>\n",
       "    </tr>\n",
       "    <tr>\n",
       "      <th>291</th>\n",
       "      <td>1</td>\n",
       "      <td>0</td>\n",
       "      <td>35.0</td>\n",
       "      <td>1</td>\n",
       "      <td>0.0</td>\n",
       "      <td>0</td>\n",
       "      <td>0</td>\n",
       "      <td>2</td>\n",
       "      <td>53</td>\n",
       "      <td>11630.0</td>\n",
       "      <td>...</td>\n",
       "      <td>0</td>\n",
       "      <td>0</td>\n",
       "      <td>1</td>\n",
       "      <td>0</td>\n",
       "      <td>0</td>\n",
       "      <td>0.827515</td>\n",
       "      <td>0.0</td>\n",
       "      <td>0</td>\n",
       "      <td>1</td>\n",
       "      <td>0</td>\n",
       "    </tr>\n",
       "    <tr>\n",
       "      <th>1726</th>\n",
       "      <td>1</td>\n",
       "      <td>0</td>\n",
       "      <td>46.0</td>\n",
       "      <td>0</td>\n",
       "      <td>8.0</td>\n",
       "      <td>177562</td>\n",
       "      <td>0</td>\n",
       "      <td>5</td>\n",
       "      <td>53</td>\n",
       "      <td>22110.0</td>\n",
       "      <td>...</td>\n",
       "      <td>0</td>\n",
       "      <td>1</td>\n",
       "      <td>0</td>\n",
       "      <td>0</td>\n",
       "      <td>0</td>\n",
       "      <td>0.313659</td>\n",
       "      <td>1.0</td>\n",
       "      <td>0</td>\n",
       "      <td>1</td>\n",
       "      <td>0</td>\n",
       "    </tr>\n",
       "    <tr>\n",
       "      <th>624</th>\n",
       "      <td>1</td>\n",
       "      <td>0</td>\n",
       "      <td>47.0</td>\n",
       "      <td>0</td>\n",
       "      <td>10.0</td>\n",
       "      <td>64777</td>\n",
       "      <td>237421</td>\n",
       "      <td>4</td>\n",
       "      <td>47</td>\n",
       "      <td>31120.0</td>\n",
       "      <td>...</td>\n",
       "      <td>1</td>\n",
       "      <td>1</td>\n",
       "      <td>1</td>\n",
       "      <td>0</td>\n",
       "      <td>0</td>\n",
       "      <td>0.741581</td>\n",
       "      <td>1.0</td>\n",
       "      <td>1</td>\n",
       "      <td>0</td>\n",
       "      <td>1</td>\n",
       "    </tr>\n",
       "    <tr>\n",
       "      <th>...</th>\n",
       "      <td>...</td>\n",
       "      <td>...</td>\n",
       "      <td>...</td>\n",
       "      <td>...</td>\n",
       "      <td>...</td>\n",
       "      <td>...</td>\n",
       "      <td>...</td>\n",
       "      <td>...</td>\n",
       "      <td>...</td>\n",
       "      <td>...</td>\n",
       "      <td>...</td>\n",
       "      <td>...</td>\n",
       "      <td>...</td>\n",
       "      <td>...</td>\n",
       "      <td>...</td>\n",
       "      <td>...</td>\n",
       "      <td>...</td>\n",
       "      <td>...</td>\n",
       "      <td>...</td>\n",
       "      <td>...</td>\n",
       "      <td>...</td>\n",
       "    </tr>\n",
       "    <tr>\n",
       "      <th>5610</th>\n",
       "      <td>0</td>\n",
       "      <td>0</td>\n",
       "      <td>41.0</td>\n",
       "      <td>0</td>\n",
       "      <td>0.0</td>\n",
       "      <td>0</td>\n",
       "      <td>0</td>\n",
       "      <td>1</td>\n",
       "      <td>18</td>\n",
       "      <td>3550.0</td>\n",
       "      <td>...</td>\n",
       "      <td>0</td>\n",
       "      <td>0</td>\n",
       "      <td>1</td>\n",
       "      <td>0</td>\n",
       "      <td>0</td>\n",
       "      <td>0.000000</td>\n",
       "      <td>0.0</td>\n",
       "      <td>0</td>\n",
       "      <td>1</td>\n",
       "      <td>0</td>\n",
       "    </tr>\n",
       "    <tr>\n",
       "      <th>6100</th>\n",
       "      <td>0</td>\n",
       "      <td>0</td>\n",
       "      <td>38.0</td>\n",
       "      <td>2</td>\n",
       "      <td>16.0</td>\n",
       "      <td>29688</td>\n",
       "      <td>131833</td>\n",
       "      <td>1</td>\n",
       "      <td>24</td>\n",
       "      <td>14910.0</td>\n",
       "      <td>...</td>\n",
       "      <td>0</td>\n",
       "      <td>0</td>\n",
       "      <td>1</td>\n",
       "      <td>0</td>\n",
       "      <td>0</td>\n",
       "      <td>0.401811</td>\n",
       "      <td>0.0</td>\n",
       "      <td>0</td>\n",
       "      <td>1</td>\n",
       "      <td>0</td>\n",
       "    </tr>\n",
       "    <tr>\n",
       "      <th>4193</th>\n",
       "      <td>0</td>\n",
       "      <td>0</td>\n",
       "      <td>59.0</td>\n",
       "      <td>0</td>\n",
       "      <td>14.0</td>\n",
       "      <td>264817</td>\n",
       "      <td>0</td>\n",
       "      <td>5</td>\n",
       "      <td>37</td>\n",
       "      <td>33880.0</td>\n",
       "      <td>...</td>\n",
       "      <td>0</td>\n",
       "      <td>1</td>\n",
       "      <td>1</td>\n",
       "      <td>0</td>\n",
       "      <td>0</td>\n",
       "      <td>0.000000</td>\n",
       "      <td>1.0</td>\n",
       "      <td>0</td>\n",
       "      <td>1</td>\n",
       "      <td>0</td>\n",
       "    </tr>\n",
       "    <tr>\n",
       "      <th>2957</th>\n",
       "      <td>0</td>\n",
       "      <td>0</td>\n",
       "      <td>51.0</td>\n",
       "      <td>0</td>\n",
       "      <td>15.0</td>\n",
       "      <td>65245</td>\n",
       "      <td>242164</td>\n",
       "      <td>3</td>\n",
       "      <td>42</td>\n",
       "      <td>24630.0</td>\n",
       "      <td>...</td>\n",
       "      <td>0</td>\n",
       "      <td>1</td>\n",
       "      <td>0</td>\n",
       "      <td>0</td>\n",
       "      <td>0</td>\n",
       "      <td>0.248680</td>\n",
       "      <td>1.0</td>\n",
       "      <td>1</td>\n",
       "      <td>0</td>\n",
       "      <td>0</td>\n",
       "    </tr>\n",
       "    <tr>\n",
       "      <th>5295</th>\n",
       "      <td>0</td>\n",
       "      <td>0</td>\n",
       "      <td>45.0</td>\n",
       "      <td>0</td>\n",
       "      <td>12.0</td>\n",
       "      <td>2887</td>\n",
       "      <td>0</td>\n",
       "      <td>2</td>\n",
       "      <td>33</td>\n",
       "      <td>5800.0</td>\n",
       "      <td>...</td>\n",
       "      <td>0</td>\n",
       "      <td>1</td>\n",
       "      <td>0</td>\n",
       "      <td>1</td>\n",
       "      <td>0</td>\n",
       "      <td>0.000000</td>\n",
       "      <td>0.0</td>\n",
       "      <td>0</td>\n",
       "      <td>1</td>\n",
       "      <td>0</td>\n",
       "    </tr>\n",
       "  </tbody>\n",
       "</table>\n",
       "<p>4306 rows × 30 columns</p>\n",
       "</div>"
      ],
      "text/plain": [
       "      TARGET_FLAG  KIDSDRIV   AGE  HOMEKIDS   YOJ  INCOME HOME_VAL  EDUCATION  \\\n",
       "1833            1         0  27.0         2  10.0   17686   136423          1   \n",
       "2145            1         1  56.0         2  14.0  176849   430830          3   \n",
       "291             1         0  35.0         1   0.0       0        0          2   \n",
       "1726            1         0  46.0         0   8.0  177562        0          5   \n",
       "624             1         0  47.0         0  10.0   64777   237421          4   \n",
       "...           ...       ...   ...       ...   ...     ...      ...        ...   \n",
       "5610            0         0  41.0         0   0.0       0        0          1   \n",
       "6100            0         0  38.0         2  16.0   29688   131833          1   \n",
       "4193            0         0  59.0         0  14.0  264817        0          5   \n",
       "2957            0         0  51.0         0  15.0   65245   242164          3   \n",
       "5295            0         0  45.0         0  12.0    2887        0          2   \n",
       "\n",
       "      TRAVTIME  BLUEBOOK  ...  REVOKED_Yes  MSTATUS_z_No  SEX_z_F  \\\n",
       "1833        60   10050.0  ...            0             0        1   \n",
       "2145        37   26470.0  ...            0             0        1   \n",
       "291         53   11630.0  ...            0             0        1   \n",
       "1726        53   22110.0  ...            0             1        0   \n",
       "624         47   31120.0  ...            1             1        1   \n",
       "...        ...       ...  ...          ...           ...      ...   \n",
       "5610        18    3550.0  ...            0             0        1   \n",
       "6100        24   14910.0  ...            0             0        1   \n",
       "4193        37   33880.0  ...            0             1        1   \n",
       "2957        42   24630.0  ...            0             1        0   \n",
       "5295        33    5800.0  ...            0             1        0   \n",
       "\n",
       "      RED_CAR_yes  PARENT1_Yes       per  master  van  car  blue_collar  \n",
       "1833            0            0  0.540597     0.0    1    0            0  \n",
       "2145            0            0  0.000000     1.0    0    1            1  \n",
       "291             0            0  0.827515     0.0    0    1            0  \n",
       "1726            0            0  0.313659     1.0    0    1            0  \n",
       "624             0            0  0.741581     1.0    1    0            1  \n",
       "...           ...          ...       ...     ...  ...  ...          ...  \n",
       "5610            0            0  0.000000     0.0    0    1            0  \n",
       "6100            0            0  0.401811     0.0    0    1            0  \n",
       "4193            0            0  0.000000     1.0    0    1            0  \n",
       "2957            0            0  0.248680     1.0    1    0            0  \n",
       "5295            1            0  0.000000     0.0    0    1            0  \n",
       "\n",
       "[4306 rows x 30 columns]"
      ]
     },
     "execution_count": 22,
     "metadata": {},
     "output_type": "execute_result"
    }
   ],
   "source": [
    "df_train_1=df_train[df_train[\"TARGET_FLAG\"]==1]\n",
    "df_train_0=df_train[df_train[\"TARGET_FLAG\"]==0]\n",
    "check_train=pd.concat([df_train_1,df_train_0.iloc[:2153]])\n",
    "check_train"
   ]
  },
  {
   "cell_type": "markdown",
   "metadata": {},
   "source": [
    "**Commentary :** Here we standardize some columns (mostly the continous variable). "
   ]
  },
  {
   "cell_type": "code",
   "execution_count": 23,
   "metadata": {},
   "outputs": [
    {
     "data": {
      "text/html": [
       "<div>\n",
       "<style scoped>\n",
       "    .dataframe tbody tr th:only-of-type {\n",
       "        vertical-align: middle;\n",
       "    }\n",
       "\n",
       "    .dataframe tbody tr th {\n",
       "        vertical-align: top;\n",
       "    }\n",
       "\n",
       "    .dataframe thead th {\n",
       "        text-align: right;\n",
       "    }\n",
       "</style>\n",
       "<table border=\"1\" class=\"dataframe\">\n",
       "  <thead>\n",
       "    <tr style=\"text-align: right;\">\n",
       "      <th></th>\n",
       "      <th>TARGET_FLAG</th>\n",
       "      <th>KIDSDRIV</th>\n",
       "      <th>AGE</th>\n",
       "      <th>HOMEKIDS</th>\n",
       "      <th>YOJ</th>\n",
       "      <th>INCOME</th>\n",
       "      <th>HOME_VAL</th>\n",
       "      <th>EDUCATION</th>\n",
       "      <th>TRAVTIME</th>\n",
       "      <th>BLUEBOOK</th>\n",
       "      <th>...</th>\n",
       "      <th>REVOKED_Yes</th>\n",
       "      <th>MSTATUS_z_No</th>\n",
       "      <th>SEX_z_F</th>\n",
       "      <th>RED_CAR_yes</th>\n",
       "      <th>PARENT1_Yes</th>\n",
       "      <th>per</th>\n",
       "      <th>master</th>\n",
       "      <th>van</th>\n",
       "      <th>car</th>\n",
       "      <th>blue_collar</th>\n",
       "    </tr>\n",
       "  </thead>\n",
       "  <tbody>\n",
       "    <tr>\n",
       "      <th>1833</th>\n",
       "      <td>1</td>\n",
       "      <td>0</td>\n",
       "      <td>-2.018574</td>\n",
       "      <td>2</td>\n",
       "      <td>10.0</td>\n",
       "      <td>-0.916741</td>\n",
       "      <td>-0.093348</td>\n",
       "      <td>1</td>\n",
       "      <td>1.660972</td>\n",
       "      <td>-0.641792</td>\n",
       "      <td>...</td>\n",
       "      <td>0</td>\n",
       "      <td>0</td>\n",
       "      <td>1</td>\n",
       "      <td>0</td>\n",
       "      <td>0</td>\n",
       "      <td>0.540597</td>\n",
       "      <td>0.0</td>\n",
       "      <td>1</td>\n",
       "      <td>0</td>\n",
       "      <td>0</td>\n",
       "    </tr>\n",
       "    <tr>\n",
       "      <th>4389</th>\n",
       "      <td>0</td>\n",
       "      <td>0</td>\n",
       "      <td>-0.068948</td>\n",
       "      <td>2</td>\n",
       "      <td>13.0</td>\n",
       "      <td>-0.875567</td>\n",
       "      <td>0.145146</td>\n",
       "      <td>1</td>\n",
       "      <td>-0.550707</td>\n",
       "      <td>0.466630</td>\n",
       "      <td>...</td>\n",
       "      <td>0</td>\n",
       "      <td>0</td>\n",
       "      <td>0</td>\n",
       "      <td>0</td>\n",
       "      <td>0</td>\n",
       "      <td>0.390881</td>\n",
       "      <td>0.0</td>\n",
       "      <td>1</td>\n",
       "      <td>0</td>\n",
       "      <td>0</td>\n",
       "    </tr>\n",
       "    <tr>\n",
       "      <th>2905</th>\n",
       "      <td>0</td>\n",
       "      <td>0</td>\n",
       "      <td>-0.068948</td>\n",
       "      <td>0</td>\n",
       "      <td>10.0</td>\n",
       "      <td>0.567740</td>\n",
       "      <td>0.980859</td>\n",
       "      <td>4</td>\n",
       "      <td>0.207583</td>\n",
       "      <td>0.022279</td>\n",
       "      <td>...</td>\n",
       "      <td>0</td>\n",
       "      <td>0</td>\n",
       "      <td>1</td>\n",
       "      <td>0</td>\n",
       "      <td>0</td>\n",
       "      <td>0.000000</td>\n",
       "      <td>1.0</td>\n",
       "      <td>0</td>\n",
       "      <td>1</td>\n",
       "      <td>0</td>\n",
       "    </tr>\n",
       "    <tr>\n",
       "      <th>2145</th>\n",
       "      <td>1</td>\n",
       "      <td>1</td>\n",
       "      <td>1.307259</td>\n",
       "      <td>2</td>\n",
       "      <td>14.0</td>\n",
       "      <td>2.682097</td>\n",
       "      <td>2.291082</td>\n",
       "      <td>3</td>\n",
       "      <td>0.207583</td>\n",
       "      <td>1.373744</td>\n",
       "      <td>...</td>\n",
       "      <td>0</td>\n",
       "      <td>0</td>\n",
       "      <td>1</td>\n",
       "      <td>0</td>\n",
       "      <td>0</td>\n",
       "      <td>0.000000</td>\n",
       "      <td>1.0</td>\n",
       "      <td>0</td>\n",
       "      <td>1</td>\n",
       "      <td>1</td>\n",
       "    </tr>\n",
       "    <tr>\n",
       "      <th>291</th>\n",
       "      <td>1</td>\n",
       "      <td>0</td>\n",
       "      <td>-1.101103</td>\n",
       "      <td>1</td>\n",
       "      <td>0.0</td>\n",
       "      <td>-1.316640</td>\n",
       "      <td>-1.198251</td>\n",
       "      <td>2</td>\n",
       "      <td>1.218636</td>\n",
       "      <td>-0.447849</td>\n",
       "      <td>...</td>\n",
       "      <td>0</td>\n",
       "      <td>0</td>\n",
       "      <td>1</td>\n",
       "      <td>0</td>\n",
       "      <td>0</td>\n",
       "      <td>0.827515</td>\n",
       "      <td>0.0</td>\n",
       "      <td>0</td>\n",
       "      <td>1</td>\n",
       "      <td>0</td>\n",
       "    </tr>\n",
       "  </tbody>\n",
       "</table>\n",
       "<p>5 rows × 30 columns</p>\n",
       "</div>"
      ],
      "text/plain": [
       "      TARGET_FLAG  KIDSDRIV       AGE  HOMEKIDS   YOJ    INCOME  HOME_VAL  \\\n",
       "1833            1         0 -2.018574         2  10.0 -0.916741 -0.093348   \n",
       "4389            0         0 -0.068948         2  13.0 -0.875567  0.145146   \n",
       "2905            0         0 -0.068948         0  10.0  0.567740  0.980859   \n",
       "2145            1         1  1.307259         2  14.0  2.682097  2.291082   \n",
       "291             1         0 -1.101103         1   0.0 -1.316640 -1.198251   \n",
       "\n",
       "      EDUCATION  TRAVTIME  BLUEBOOK  ...  REVOKED_Yes  MSTATUS_z_No  SEX_z_F  \\\n",
       "1833          1  1.660972 -0.641792  ...            0             0        1   \n",
       "4389          1 -0.550707  0.466630  ...            0             0        0   \n",
       "2905          4  0.207583  0.022279  ...            0             0        1   \n",
       "2145          3  0.207583  1.373744  ...            0             0        1   \n",
       "291           2  1.218636 -0.447849  ...            0             0        1   \n",
       "\n",
       "      RED_CAR_yes  PARENT1_Yes       per  master  van  car  blue_collar  \n",
       "1833            0            0  0.540597     0.0    1    0            0  \n",
       "4389            0            0  0.390881     0.0    1    0            0  \n",
       "2905            0            0  0.000000     1.0    0    1            0  \n",
       "2145            0            0  0.000000     1.0    0    1            1  \n",
       "291             0            0  0.827515     0.0    0    1            0  \n",
       "\n",
       "[5 rows x 30 columns]"
      ]
     },
     "execution_count": 23,
     "metadata": {},
     "output_type": "execute_result"
    }
   ],
   "source": [
    "binary_cols2=['JOB_z_Blue Collar ','car','blue_collar','van','URBANICITY_z_Highly Rural/ Rural',\n",
    "       'CAR_USE_Private', 'REVOKED_Yes', 'MSTATUS_z_No', 'SEX_z_F',\n",
    "       'RED_CAR_yes', 'PARENT1_Yes','TARGET_FLAG','EDUCATION',\"KIDSDRIV\",\"HOMEKIDS\",\"master\",\"per\",\"YOJ\",\"TIF\",\"CLM_FREQ\",\"CAR_AGE\"]\n",
    "df_train2=df_train.copy()\n",
    "df_train2.loc[:,~df_train2.columns.isin(binary_cols2)]=StandardScaler().fit_transform(df_train2.loc[:,~df_train2.columns.isin(binary_cols2)])\n",
    "\n",
    "df_test2=df_test.copy()\n",
    "df_test2.loc[:,~df_test2.columns.isin(binary_cols2)]=StandardScaler().fit_transform(df_test2.loc[:,~df_test2.columns.isin(binary_cols2)])\n",
    "df_train2.head()"
   ]
  },
  {
   "cell_type": "code",
   "execution_count": 24,
   "metadata": {},
   "outputs": [
    {
     "data": {
      "text/plain": [
       "TARGET_FLAG                         0\n",
       "KIDSDRIV                            0\n",
       "AGE                                 0\n",
       "HOMEKIDS                            0\n",
       "YOJ                                 0\n",
       "INCOME                              0\n",
       "HOME_VAL                            0\n",
       "EDUCATION                           0\n",
       "TRAVTIME                            0\n",
       "BLUEBOOK                            0\n",
       "TIF                                 0\n",
       "OLDCLAIM                            0\n",
       "CLM_FREQ                            0\n",
       "MVR_PTS                             0\n",
       "CAR_AGE                             0\n",
       "JOB_Manager                         0\n",
       "JOB_z_Blue Collar                   0\n",
       "CAR_TYPE_Minivan                    0\n",
       "URBANICITY_z_Highly Rural/ Rural    0\n",
       "CAR_USE_Private                     0\n",
       "REVOKED_Yes                         0\n",
       "MSTATUS_z_No                        0\n",
       "SEX_z_F                             0\n",
       "RED_CAR_yes                         0\n",
       "PARENT1_Yes                         0\n",
       "per                                 0\n",
       "master                              0\n",
       "van                                 0\n",
       "car                                 0\n",
       "blue_collar                         0\n",
       "dtype: int64"
      ]
     },
     "execution_count": 24,
     "metadata": {},
     "output_type": "execute_result"
    }
   ],
   "source": [
    "df_train.isna().sum()"
   ]
  },
  {
   "cell_type": "markdown",
   "metadata": {},
   "source": [
    "### SVM"
   ]
  },
  {
   "cell_type": "code",
   "execution_count": 25,
   "metadata": {},
   "outputs": [],
   "source": [
    "df_train2_=df_train2/df_train2.max()"
   ]
  },
  {
   "cell_type": "code",
   "execution_count": 26,
   "metadata": {},
   "outputs": [
    {
     "data": {
      "text/html": [
       "<style>#sk-container-id-1 {color: black;background-color: white;}#sk-container-id-1 pre{padding: 0;}#sk-container-id-1 div.sk-toggleable {background-color: white;}#sk-container-id-1 label.sk-toggleable__label {cursor: pointer;display: block;width: 100%;margin-bottom: 0;padding: 0.3em;box-sizing: border-box;text-align: center;}#sk-container-id-1 label.sk-toggleable__label-arrow:before {content: \"▸\";float: left;margin-right: 0.25em;color: #696969;}#sk-container-id-1 label.sk-toggleable__label-arrow:hover:before {color: black;}#sk-container-id-1 div.sk-estimator:hover label.sk-toggleable__label-arrow:before {color: black;}#sk-container-id-1 div.sk-toggleable__content {max-height: 0;max-width: 0;overflow: hidden;text-align: left;background-color: #f0f8ff;}#sk-container-id-1 div.sk-toggleable__content pre {margin: 0.2em;color: black;border-radius: 0.25em;background-color: #f0f8ff;}#sk-container-id-1 input.sk-toggleable__control:checked~div.sk-toggleable__content {max-height: 200px;max-width: 100%;overflow: auto;}#sk-container-id-1 input.sk-toggleable__control:checked~label.sk-toggleable__label-arrow:before {content: \"▾\";}#sk-container-id-1 div.sk-estimator input.sk-toggleable__control:checked~label.sk-toggleable__label {background-color: #d4ebff;}#sk-container-id-1 div.sk-label input.sk-toggleable__control:checked~label.sk-toggleable__label {background-color: #d4ebff;}#sk-container-id-1 input.sk-hidden--visually {border: 0;clip: rect(1px 1px 1px 1px);clip: rect(1px, 1px, 1px, 1px);height: 1px;margin: -1px;overflow: hidden;padding: 0;position: absolute;width: 1px;}#sk-container-id-1 div.sk-estimator {font-family: monospace;background-color: #f0f8ff;border: 1px dotted black;border-radius: 0.25em;box-sizing: border-box;margin-bottom: 0.5em;}#sk-container-id-1 div.sk-estimator:hover {background-color: #d4ebff;}#sk-container-id-1 div.sk-parallel-item::after {content: \"\";width: 100%;border-bottom: 1px solid gray;flex-grow: 1;}#sk-container-id-1 div.sk-label:hover label.sk-toggleable__label {background-color: #d4ebff;}#sk-container-id-1 div.sk-serial::before {content: \"\";position: absolute;border-left: 1px solid gray;box-sizing: border-box;top: 0;bottom: 0;left: 50%;z-index: 0;}#sk-container-id-1 div.sk-serial {display: flex;flex-direction: column;align-items: center;background-color: white;padding-right: 0.2em;padding-left: 0.2em;position: relative;}#sk-container-id-1 div.sk-item {position: relative;z-index: 1;}#sk-container-id-1 div.sk-parallel {display: flex;align-items: stretch;justify-content: center;background-color: white;position: relative;}#sk-container-id-1 div.sk-item::before, #sk-container-id-1 div.sk-parallel-item::before {content: \"\";position: absolute;border-left: 1px solid gray;box-sizing: border-box;top: 0;bottom: 0;left: 50%;z-index: -1;}#sk-container-id-1 div.sk-parallel-item {display: flex;flex-direction: column;z-index: 1;position: relative;background-color: white;}#sk-container-id-1 div.sk-parallel-item:first-child::after {align-self: flex-end;width: 50%;}#sk-container-id-1 div.sk-parallel-item:last-child::after {align-self: flex-start;width: 50%;}#sk-container-id-1 div.sk-parallel-item:only-child::after {width: 0;}#sk-container-id-1 div.sk-dashed-wrapped {border: 1px dashed gray;margin: 0 0.4em 0.5em 0.4em;box-sizing: border-box;padding-bottom: 0.4em;background-color: white;}#sk-container-id-1 div.sk-label label {font-family: monospace;font-weight: bold;display: inline-block;line-height: 1.2em;}#sk-container-id-1 div.sk-label-container {text-align: center;}#sk-container-id-1 div.sk-container {/* jupyter's `normalize.less` sets `[hidden] { display: none; }` but bootstrap.min.css set `[hidden] { display: none !important; }` so we also need the `!important` here to be able to override the default hidden behavior on the sphinx rendered scikit-learn.org. See: https://github.com/scikit-learn/scikit-learn/issues/21755 */display: inline-block !important;position: relative;}#sk-container-id-1 div.sk-text-repr-fallback {display: none;}</style><div id=\"sk-container-id-1\" class=\"sk-top-container\"><div class=\"sk-text-repr-fallback\"><pre>SVC(C=1, class_weight={0: 1, 1: 1.5}, gamma=&#x27;auto&#x27;)</pre><b>In a Jupyter environment, please rerun this cell to show the HTML representation or trust the notebook. <br />On GitHub, the HTML representation is unable to render, please try loading this page with nbviewer.org.</b></div><div class=\"sk-container\" hidden><div class=\"sk-item\"><div class=\"sk-estimator sk-toggleable\"><input class=\"sk-toggleable__control sk-hidden--visually\" id=\"sk-estimator-id-1\" type=\"checkbox\" checked><label for=\"sk-estimator-id-1\" class=\"sk-toggleable__label sk-toggleable__label-arrow\">SVC</label><div class=\"sk-toggleable__content\"><pre>SVC(C=1, class_weight={0: 1, 1: 1.5}, gamma=&#x27;auto&#x27;)</pre></div></div></div></div></div>"
      ],
      "text/plain": [
       "SVC(C=1, class_weight={0: 1, 1: 1.5}, gamma='auto')"
      ]
     },
     "execution_count": 26,
     "metadata": {},
     "output_type": "execute_result"
    }
   ],
   "source": [
    "x_train,x_test,y_train,y_test=train_test_split(df_train2_.drop(\"TARGET_FLAG\",axis=1),df_train2_[\"TARGET_FLAG\"],test_size=0.20)\n",
    "svm=SVC(kernel=\"rbf\",C=1,gamma='auto',class_weight={0:1,1:1.5})\n",
    "svm.fit(x_train,y_train)"
   ]
  },
  {
   "cell_type": "code",
   "execution_count": 27,
   "metadata": {},
   "outputs": [
    {
     "name": "stdout",
     "output_type": "stream",
     "text": [
      "              precision    recall  f1-score   support\n",
      "\n",
      "         0.0       0.84      0.79      0.82      3570\n",
      "         1.0       0.62      0.69      0.65      1706\n",
      "\n",
      "    accuracy                           0.76      5276\n",
      "   macro avg       0.73      0.74      0.74      5276\n",
      "weighted avg       0.77      0.76      0.76      5276\n",
      "\n"
     ]
    }
   ],
   "source": [
    "y_pred=svm.predict(x_train)\n",
    "print(classification_report(y_train,y_pred))"
   ]
  },
  {
   "cell_type": "code",
   "execution_count": 28,
   "metadata": {},
   "outputs": [
    {
     "name": "stdout",
     "output_type": "stream",
     "text": [
      "              precision    recall  f1-score   support\n",
      "\n",
      "         0.0       0.84      0.79      0.82       873\n",
      "         1.0       0.64      0.70      0.67       447\n",
      "\n",
      "    accuracy                           0.76      1320\n",
      "   macro avg       0.74      0.75      0.74      1320\n",
      "weighted avg       0.77      0.76      0.76      1320\n",
      "\n"
     ]
    }
   ],
   "source": [
    "y_pred=svm.predict(x_test)\n",
    "print(classification_report(y_test,y_pred))"
   ]
  },
  {
   "cell_type": "markdown",
   "metadata": {},
   "source": [
    "**Commentary :** We used as a first model SVM. It is suited for this task because it is able to take into account the skewness of the data(with the class_weight parameter). The baseline of a binary classification is 50% for the precision and we are able to exceed that with this model. This means that the model has learned something. However, the performance can still be improved by adding for example some additional preprocessing  steps such as outliers removal or data augmentation or tuning the hyperparameters. "
   ]
  },
  {
   "cell_type": "markdown",
   "metadata": {},
   "source": [
    "### Random Forest"
   ]
  },
  {
   "cell_type": "markdown",
   "metadata": {},
   "source": [
    "Because of the imbalance in the dataset, we will only consider some samples from majority class (undersampling). We could have also used the class_weight parameter."
   ]
  },
  {
   "cell_type": "code",
   "execution_count": 29,
   "metadata": {},
   "outputs": [],
   "source": [
    "df_train2_1=df_train2[df_train2[\"TARGET_FLAG\"]==1]\n",
    "df_train2_0=df_train2[df_train2[\"TARGET_FLAG\"]==0]"
   ]
  },
  {
   "cell_type": "code",
   "execution_count": 30,
   "metadata": {},
   "outputs": [],
   "source": [
    "check_df=pd.concat([df_train2_1,df_train2_0.sample(n=2500)])\n",
    "check_df=check_df.sample(frac=1)"
   ]
  },
  {
   "cell_type": "code",
   "execution_count": 31,
   "metadata": {},
   "outputs": [],
   "source": [
    "x_train,x_test,y_train,y_test=train_test_split(check_df.drop(\"TARGET_FLAG\",axis=1),check_df[\"TARGET_FLAG\"],test_size=0.10)"
   ]
  },
  {
   "cell_type": "code",
   "execution_count": 32,
   "metadata": {},
   "outputs": [
    {
     "data": {
      "text/plain": [
       "0.4627122286696755"
      ]
     },
     "execution_count": 32,
     "metadata": {},
     "output_type": "execute_result"
    }
   ],
   "source": [
    "check_df[\"TARGET_FLAG\"].sum()/len(check_df)"
   ]
  },
  {
   "cell_type": "code",
   "execution_count": 33,
   "metadata": {},
   "outputs": [
    {
     "data": {
      "text/html": [
       "<style>#sk-container-id-2 {color: black;background-color: white;}#sk-container-id-2 pre{padding: 0;}#sk-container-id-2 div.sk-toggleable {background-color: white;}#sk-container-id-2 label.sk-toggleable__label {cursor: pointer;display: block;width: 100%;margin-bottom: 0;padding: 0.3em;box-sizing: border-box;text-align: center;}#sk-container-id-2 label.sk-toggleable__label-arrow:before {content: \"▸\";float: left;margin-right: 0.25em;color: #696969;}#sk-container-id-2 label.sk-toggleable__label-arrow:hover:before {color: black;}#sk-container-id-2 div.sk-estimator:hover label.sk-toggleable__label-arrow:before {color: black;}#sk-container-id-2 div.sk-toggleable__content {max-height: 0;max-width: 0;overflow: hidden;text-align: left;background-color: #f0f8ff;}#sk-container-id-2 div.sk-toggleable__content pre {margin: 0.2em;color: black;border-radius: 0.25em;background-color: #f0f8ff;}#sk-container-id-2 input.sk-toggleable__control:checked~div.sk-toggleable__content {max-height: 200px;max-width: 100%;overflow: auto;}#sk-container-id-2 input.sk-toggleable__control:checked~label.sk-toggleable__label-arrow:before {content: \"▾\";}#sk-container-id-2 div.sk-estimator input.sk-toggleable__control:checked~label.sk-toggleable__label {background-color: #d4ebff;}#sk-container-id-2 div.sk-label input.sk-toggleable__control:checked~label.sk-toggleable__label {background-color: #d4ebff;}#sk-container-id-2 input.sk-hidden--visually {border: 0;clip: rect(1px 1px 1px 1px);clip: rect(1px, 1px, 1px, 1px);height: 1px;margin: -1px;overflow: hidden;padding: 0;position: absolute;width: 1px;}#sk-container-id-2 div.sk-estimator {font-family: monospace;background-color: #f0f8ff;border: 1px dotted black;border-radius: 0.25em;box-sizing: border-box;margin-bottom: 0.5em;}#sk-container-id-2 div.sk-estimator:hover {background-color: #d4ebff;}#sk-container-id-2 div.sk-parallel-item::after {content: \"\";width: 100%;border-bottom: 1px solid gray;flex-grow: 1;}#sk-container-id-2 div.sk-label:hover label.sk-toggleable__label {background-color: #d4ebff;}#sk-container-id-2 div.sk-serial::before {content: \"\";position: absolute;border-left: 1px solid gray;box-sizing: border-box;top: 0;bottom: 0;left: 50%;z-index: 0;}#sk-container-id-2 div.sk-serial {display: flex;flex-direction: column;align-items: center;background-color: white;padding-right: 0.2em;padding-left: 0.2em;position: relative;}#sk-container-id-2 div.sk-item {position: relative;z-index: 1;}#sk-container-id-2 div.sk-parallel {display: flex;align-items: stretch;justify-content: center;background-color: white;position: relative;}#sk-container-id-2 div.sk-item::before, #sk-container-id-2 div.sk-parallel-item::before {content: \"\";position: absolute;border-left: 1px solid gray;box-sizing: border-box;top: 0;bottom: 0;left: 50%;z-index: -1;}#sk-container-id-2 div.sk-parallel-item {display: flex;flex-direction: column;z-index: 1;position: relative;background-color: white;}#sk-container-id-2 div.sk-parallel-item:first-child::after {align-self: flex-end;width: 50%;}#sk-container-id-2 div.sk-parallel-item:last-child::after {align-self: flex-start;width: 50%;}#sk-container-id-2 div.sk-parallel-item:only-child::after {width: 0;}#sk-container-id-2 div.sk-dashed-wrapped {border: 1px dashed gray;margin: 0 0.4em 0.5em 0.4em;box-sizing: border-box;padding-bottom: 0.4em;background-color: white;}#sk-container-id-2 div.sk-label label {font-family: monospace;font-weight: bold;display: inline-block;line-height: 1.2em;}#sk-container-id-2 div.sk-label-container {text-align: center;}#sk-container-id-2 div.sk-container {/* jupyter's `normalize.less` sets `[hidden] { display: none; }` but bootstrap.min.css set `[hidden] { display: none !important; }` so we also need the `!important` here to be able to override the default hidden behavior on the sphinx rendered scikit-learn.org. See: https://github.com/scikit-learn/scikit-learn/issues/21755 */display: inline-block !important;position: relative;}#sk-container-id-2 div.sk-text-repr-fallback {display: none;}</style><div id=\"sk-container-id-2\" class=\"sk-top-container\"><div class=\"sk-text-repr-fallback\"><pre>RandomForestClassifier(max_depth=9)</pre><b>In a Jupyter environment, please rerun this cell to show the HTML representation or trust the notebook. <br />On GitHub, the HTML representation is unable to render, please try loading this page with nbviewer.org.</b></div><div class=\"sk-container\" hidden><div class=\"sk-item\"><div class=\"sk-estimator sk-toggleable\"><input class=\"sk-toggleable__control sk-hidden--visually\" id=\"sk-estimator-id-2\" type=\"checkbox\" checked><label for=\"sk-estimator-id-2\" class=\"sk-toggleable__label sk-toggleable__label-arrow\">RandomForestClassifier</label><div class=\"sk-toggleable__content\"><pre>RandomForestClassifier(max_depth=9)</pre></div></div></div></div></div>"
      ],
      "text/plain": [
       "RandomForestClassifier(max_depth=9)"
      ]
     },
     "execution_count": 33,
     "metadata": {},
     "output_type": "execute_result"
    }
   ],
   "source": [
    "rf=RandomForestClassifier(max_depth=9,n_estimators=100)#,class_weight={0:4,1:1})\n",
    "rf.fit(x_train,y_train)"
   ]
  },
  {
   "cell_type": "code",
   "execution_count": 34,
   "metadata": {},
   "outputs": [
    {
     "name": "stdout",
     "output_type": "stream",
     "text": [
      "              precision    recall  f1-score   support\n",
      "\n",
      "           0       0.89      0.87      0.88      2239\n",
      "           1       0.85      0.88      0.87      1948\n",
      "\n",
      "    accuracy                           0.87      4187\n",
      "   macro avg       0.87      0.87      0.87      4187\n",
      "weighted avg       0.87      0.87      0.87      4187\n",
      "\n"
     ]
    }
   ],
   "source": [
    "y_pred=rf.predict(x_train)\n",
    "print(classification_report(y_train,y_pred))"
   ]
  },
  {
   "cell_type": "code",
   "execution_count": 35,
   "metadata": {},
   "outputs": [
    {
     "name": "stdout",
     "output_type": "stream",
     "text": [
      "              precision    recall  f1-score   support\n",
      "\n",
      "           0       0.80      0.77      0.78       261\n",
      "           1       0.72      0.75      0.73       205\n",
      "\n",
      "    accuracy                           0.76       466\n",
      "   macro avg       0.76      0.76      0.76       466\n",
      "weighted avg       0.76      0.76      0.76       466\n",
      "\n"
     ]
    }
   ],
   "source": [
    "y_pred=rf.predict(x_test)\n",
    "print(classification_report(y_test,y_pred))"
   ]
  },
  {
   "cell_type": "code",
   "execution_count": 36,
   "metadata": {},
   "outputs": [
    {
     "data": {
      "text/plain": [
       "array(['INCOME', 'HOME_VAL', 'URBANICITY_z_Highly Rural/ Rural'],\n",
       "      dtype=object)"
      ]
     },
     "execution_count": 36,
     "metadata": {},
     "output_type": "execute_result"
    }
   ],
   "source": [
    "index=(rf.feature_importances_>0.07)*1\n",
    "rf.feature_names_in_[np.nonzero(index)]"
   ]
  },
  {
   "cell_type": "code",
   "execution_count": 37,
   "metadata": {},
   "outputs": [
    {
     "data": {
      "text/plain": [
       "<BarContainer object of 29 artists>"
      ]
     },
     "execution_count": 37,
     "metadata": {},
     "output_type": "execute_result"
    },
    {
     "data": {
      "image/png": "[encoded data removed]",
      "text/plain": [
       "<Figure size 432x288 with 1 Axes>"
      ]
     },
     "metadata": {
      "needs_background": "light"
     },
     "output_type": "display_data"
    }
   ],
   "source": [
    "import matplotlib.pyplot as plt \n",
    "plt.xticks(rotation='vertical')\n",
    "plt.bar(rf.feature_names_in_,rf.feature_importances_)"
   ]
  },
  {
   "cell_type": "markdown",
   "metadata": {},
   "source": [
    "**Commentary :** With random forest, we are able to improve the results for the class 1 even if the global performances (macro precision and recall) are pretty much the same. An interesting perk of RF is that it can provide a degree of importance for each variables used during the prediction. We noticed that the most important features are 'HOME_VAL',  'OLDCLAIM' and 'URBANICITY_z_Highly Rural/ Rural' which seems logical."
   ]
  },
  {
   "cell_type": "markdown",
   "metadata": {},
   "source": [
    "### Boosting "
   ]
  },
  {
   "cell_type": "code",
   "execution_count": 38,
   "metadata": {},
   "outputs": [],
   "source": [
    "## Gradient Boosting"
   ]
  },
  {
   "cell_type": "code",
   "execution_count": 39,
   "metadata": {},
   "outputs": [],
   "source": [
    "check_df=pd.concat([df_train_1,df_train_0.sample(n=2500)])\n",
    "check_df=check_df.sample(frac=1)"
   ]
  },
  {
   "cell_type": "code",
   "execution_count": 40,
   "metadata": {},
   "outputs": [],
   "source": [
    "x_train,x_test,y_train,y_test=train_test_split(check_df.drop(\"TARGET_FLAG\",axis=1),check_df[\"TARGET_FLAG\"],test_size=0.10)"
   ]
  },
  {
   "cell_type": "code",
   "execution_count": 41,
   "metadata": {},
   "outputs": [
    {
     "data": {
      "text/plain": [
       "0.7381974248927039"
      ]
     },
     "execution_count": 41,
     "metadata": {},
     "output_type": "execute_result"
    }
   ],
   "source": [
    "clf = GradientBoostingClassifier(n_estimators=130, learning_rate=1.,\n",
    "    max_depth=1, random_state=0).fit(x_train, y_train)\n",
    "clf.score(x_test, y_test)"
   ]
  },
  {
   "cell_type": "code",
   "execution_count": 42,
   "metadata": {},
   "outputs": [
    {
     "name": "stdout",
     "output_type": "stream",
     "text": [
      "              precision    recall  f1-score   support\n",
      "\n",
      "           0       0.81      0.82      0.82      2265\n",
      "           1       0.78      0.77      0.78      1922\n",
      "\n",
      "    accuracy                           0.80      4187\n",
      "   macro avg       0.80      0.80      0.80      4187\n",
      "weighted avg       0.80      0.80      0.80      4187\n",
      "\n"
     ]
    }
   ],
   "source": [
    "y_pred=clf.predict(x_train)\n",
    "print(classification_report(y_train,y_pred))"
   ]
  },
  {
   "cell_type": "code",
   "execution_count": 43,
   "metadata": {},
   "outputs": [
    {
     "name": "stdout",
     "output_type": "stream",
     "text": [
      "              precision    recall  f1-score   support\n",
      "\n",
      "           0       0.73      0.77      0.75       235\n",
      "           1       0.75      0.70      0.73       231\n",
      "\n",
      "    accuracy                           0.74       466\n",
      "   macro avg       0.74      0.74      0.74       466\n",
      "weighted avg       0.74      0.74      0.74       466\n",
      "\n"
     ]
    }
   ],
   "source": [
    "y_pred=clf.predict(x_test)\n",
    "print(classification_report(y_test,y_pred))"
   ]
  },
  {
   "cell_type": "code",
   "execution_count": 44,
   "metadata": {},
   "outputs": [
    {
     "data": {
      "text/plain": [
       "array(['HOME_VAL', 'OLDCLAIM', 'URBANICITY_z_Highly Rural/ Rural',\n",
       "       'CAR_USE_Private'], dtype=object)"
      ]
     },
     "execution_count": 44,
     "metadata": {},
     "output_type": "execute_result"
    }
   ],
   "source": [
    "check_index_=(clf.feature_importances_>0.08)*1\n",
    "check_index=clf.feature_names_in_[np.nonzero(check_index_)]\n",
    "clf.feature_names_in_[np.nonzero(check_index_)]"
   ]
  },
  {
   "cell_type": "code",
   "execution_count": 45,
   "metadata": {},
   "outputs": [],
   "source": [
    "## AdaBoost"
   ]
  },
  {
   "cell_type": "code",
   "execution_count": 46,
   "metadata": {},
   "outputs": [
    {
     "data": {
      "text/plain": [
       "0.7339055793991416"
      ]
     },
     "execution_count": 46,
     "metadata": {},
     "output_type": "execute_result"
    }
   ],
   "source": [
    "from sklearn.ensemble import AdaBoostClassifier\n",
    "ada = AdaBoostClassifier(n_estimators=130)\n",
    "ada.fit(x_train,y_train)\n",
    "ada.score(x_test,y_test)"
   ]
  },
  {
   "cell_type": "code",
   "execution_count": 47,
   "metadata": {},
   "outputs": [
    {
     "name": "stdout",
     "output_type": "stream",
     "text": [
      "              precision    recall  f1-score   support\n",
      "\n",
      "           0       0.72      0.77      0.74       235\n",
      "           1       0.75      0.70      0.72       231\n",
      "\n",
      "    accuracy                           0.73       466\n",
      "   macro avg       0.73      0.73      0.73       466\n",
      "weighted avg       0.73      0.73      0.73       466\n",
      "\n"
     ]
    }
   ],
   "source": [
    "ypred=ada.predict(x_test)\n",
    "print(classification_report(y_test,ypred))"
   ]
  },
  {
   "cell_type": "code",
   "execution_count": 48,
   "metadata": {},
   "outputs": [
    {
     "data": {
      "text/plain": [
       "<BarContainer object of 29 artists>"
      ]
     },
     "execution_count": 48,
     "metadata": {},
     "output_type": "execute_result"
    },
    {
     "data": {
      "image/png": "[encoded data removed]",
      "text/plain": [
       "<Figure size 432x288 with 1 Axes>"
      ]
     },
     "metadata": {
      "needs_background": "light"
     },
     "output_type": "display_data"
    }
   ],
   "source": [
    "plt.xticks(rotation='vertical')\n",
    "plt.bar(ada.feature_names_in_,ada.feature_importances_)"
   ]
  },
  {
   "cell_type": "code",
   "execution_count": 49,
   "metadata": {},
   "outputs": [
    {
     "data": {
      "text/plain": [
       "array(['YOJ', 'INCOME', 'CAR_AGE'], dtype=object)"
      ]
     },
     "execution_count": 49,
     "metadata": {},
     "output_type": "execute_result"
    }
   ],
   "source": [
    "check_index_=(ada.feature_importances_>0.08)*1\n",
    "check_index=ada.feature_names_in_[np.nonzero(check_index_)]\n",
    "ada.feature_names_in_[np.nonzero(check_index_)]"
   ]
  },
  {
   "cell_type": "markdown",
   "metadata": {},
   "source": [
    "**Commentary :** The most important variables are more or less consistant across all the tested models. Let us also not that we used for the training of the boosting models the non-standardized data because it works better.  \n",
    "We chose to keep the GradientBoostingClassifier as final model since it has the best f1-score on the test set. We should have used cross_validation f1-score for the comparison, however we ensure that GradientBoostingClassifier was the best model by running the sampling, training and testing multiple times. "
   ]
  },
  {
   "cell_type": "markdown",
   "metadata": {},
   "source": [
    "### Final training and prediction "
   ]
  },
  {
   "cell_type": "code",
   "execution_count": 50,
   "metadata": {},
   "outputs": [],
   "source": [
    "final_train=pd.concat([df_train_1,df_train_0.sample(n=2500)])\n",
    "final_train_x=final_train.drop(\"TARGET_FLAG\",axis=1)\n",
    "final_train_y=final_train[\"TARGET_FLAG\"]"
   ]
  },
  {
   "cell_type": "code",
   "execution_count": 51,
   "metadata": {},
   "outputs": [],
   "source": [
    "## Training : We use random forest\n",
    "#rf=RandomForestClassifier(max_depth=9,n_estimators=100)\n",
    "#rf.fit(final_train_x,final_train_y)\n",
    "clf = GradientBoostingClassifier(n_estimators=130, learning_rate=1.,\n",
    "    max_depth=1, random_state=0).fit(final_train_x, final_train_y)"
   ]
  },
  {
   "cell_type": "code",
   "execution_count": 52,
   "metadata": {},
   "outputs": [],
   "source": [
    "## Prediction\n",
    "y_pred=clf.predict(df_test.drop(\"TARGET_FLAG\",axis=1))"
   ]
  },
  {
   "cell_type": "code",
   "execution_count": 53,
   "metadata": {},
   "outputs": [],
   "source": [
    "## final csv file\n",
    "df_test[\"TARGET_FLAG\"]=y_pred\n",
    "df_test[\"TARGET_FLAG\"].to_csv(\"pred_Descartes_und.csv\")"
   ]
  },
  {
   "cell_type": "code",
   "execution_count": 54,
   "metadata": {},
   "outputs": [
    {
     "data": {
      "text/plain": [
       "0.38206445586174687"
      ]
     },
     "execution_count": 54,
     "metadata": {},
     "output_type": "execute_result"
    }
   ],
   "source": [
    "df_test[\"TARGET_FLAG\"].sum()/len(y_pred)"
   ]
  }
 ],
 "metadata": {
  "kernelspec": {
   "display_name": "Python 3",
   "language": "python",
   "name": "python3"
  },
  "language_info": {
   "codemirror_mode": {
    "name": "ipython",
    "version": 3
   },
   "file_extension": ".py",
   "mimetype": "text/x-python",
   "name": "python",
   "nbconvert_exporter": "python",
   "pygments_lexer": "ipython3",
   "version": "3.8.6"
  }
 },
 "nbformat": 4,
 "nbformat_minor": 4
}
